{
 "cells": [
  {
   "cell_type": "code",
   "execution_count": 24,
   "metadata": {},
   "outputs": [],
   "source": [
    "from typing import Optional, Tuple\n",
    "import numpy as np"
   ]
  },
  {
   "cell_type": "code",
   "execution_count": 25,
   "metadata": {},
   "outputs": [
    {
     "name": "stdout",
     "output_type": "stream",
     "text": [
      "[[ 9. 12. 15.]\n",
      " [19. 26. 33.]\n",
      " [24. 33. 42.]\n",
      " [ 9. 15. 21.]]\n"
     ]
    }
   ],
   "source": [
    "#zadanie rozgrzewkowe\n",
    "#mnożenie macierzy w ulubionym języku programowania\n",
    "#zgadzać musi sie 2 wymiar macierzy m1 i pierwszy wymair macierzy m2\n",
    "def agh_superfast_matrix_multiply(a: np.matrix, b: np.matrix) -> np.matrix:\n",
    "    n = a.shape[0]\n",
    "    m = a.shape[1]\n",
    "    p = b.shape[1]\n",
    "    c = np.zeros((n,p))\n",
    "    \n",
    "    for i in range(0,n):\n",
    "        for j in range(0,p):\n",
    "            for k in range(0,m):\n",
    "                c[i,j] += a[i,k] * b[k,j]\n",
    "    return c\n",
    "    pass\n",
    "\n",
    "m1 = np.matrix([[1, 2],\n",
    "                [3, 4],\n",
    "                [4, 5],\n",
    "                [5, 1]])\n",
    "\n",
    "m2 = np.matrix([[1, 2, 3],\n",
    "                [4, 5, 6]])\n",
    "\n",
    "res = superfast_matrix_multiply(m1, m2)\n",
    "print(res)"
   ]
  },
  {
   "cell_type": "code",
   "execution_count": 26,
   "metadata": {},
   "outputs": [],
   "source": [
    "#zadanie 1\n",
    "#kod do eliminacji Gaussa bez pivotingu\n",
    "def naive_gauss(a, b):\n",
    "    n = a.shape[0]\n",
    "    x = np.zeros(n)\n",
    "    \n",
    "    for k in range(0,n):\n",
    "        for i in range(k+1,n):\n",
    "            xmult = a[i,k] / a[k,k]\n",
    "            a[i,k] = xmult\n",
    "            for j in range(k+1,n):\n",
    "                a[i,j] = a[i,j] - xmult * a[k,j]\n",
    "            b[i] = b[i] - xmult * b[k]\n",
    "    x[n-1] = b[n-1] / a[n-1,n-1]\n",
    "    for i in range(n-1,-1,-1):\n",
    "        sum = b[i]\n",
    "        for j in range(i+1,n):\n",
    "            sum = sum - a[i,j] * x[j]\n",
    "        x[i] = sum / a[i,i]\n",
    "    return np.matrix(x).transpose()\n",
    "    pass"
   ]
  },
  {
   "cell_type": "code",
   "execution_count": 27,
   "metadata": {},
   "outputs": [],
   "source": [
    "#kod do eliminacji Gaussa z pivotingiem\n",
    "def pivot_gauss(a, b):\n",
    "    n = a.shape[0]\n",
    "    x = np.zeros(n)\n",
    "    s = np.zeros(n)\n",
    "    d = np.zeros(n, dtype=np.int)\n",
    "    \n",
    "    for i in range(0, n):\n",
    "        d[i] = i\n",
    "        smax = 0\n",
    "        for j in range(0, n):\n",
    "            smax = max(smax, abs(a[i, j]))\n",
    "        s[i] = smax\n",
    "        \n",
    "    for k in range(0, n - 1):\n",
    "        rmax = 0\n",
    "        for i in range(k,n):\n",
    "            r = abs(a[d[i], k] / s[d[i]])\n",
    "            if r > rmax:\n",
    "                rmax = r\n",
    "                j = i\n",
    "        tmp = d[j]\n",
    "        d[j] = d[k]\n",
    "        d[k] = tmp\n",
    "        for i in range(k + 1,n):\n",
    "            xmult = a[d[i], k] / a[d[k], k]\n",
    "            a[d[i],k] = xmult\n",
    "            for j in range(k+1, n):\n",
    "                a[d[i], j] = a[d[i], j] - xmult * a[d[k], j]\n",
    "    \n",
    "    for k in range(0,n):\n",
    "        for i in range(k+1,n):\n",
    "            b[d[i]] = b[d[i]] - a[d[i], k] * b[d[k]]\n",
    "    m = n-1\n",
    "    x[m] = b[d[m]] / a[d[m], m]\n",
    "    for i in range(n-1, -1, -1):\n",
    "        sum = b[d[i]]\n",
    "        for j in range(i+1, n):\n",
    "            sum = sum - a[d[i], j] * x[j]\n",
    "        x[i] = sum / a[d[i], i]\n",
    "    return np.matrix(x).transpose()\n",
    "    pass"
   ]
  },
  {
   "cell_type": "code",
   "execution_count": 28,
   "metadata": {},
   "outputs": [
    {
     "name": "stdout",
     "output_type": "stream",
     "text": [
      "[[ 0.21602477]\n",
      " [-0.00791511]\n",
      " [ 0.63524333]\n",
      " [ 0.74617428]]\n",
      "[[ 0.21602477]\n",
      " [-0.00791511]\n",
      " [ 0.63524333]\n",
      " [ 0.74617428]]\n",
      "[[ 0.21602477]\n",
      " [-0.00791511]\n",
      " [ 0.63524333]\n",
      " [ 0.74617428]]\n"
     ]
    },
    {
     "data": {
      "text/plain": [
       "True"
      ]
     },
     "execution_count": 28,
     "metadata": {},
     "output_type": "execute_result"
    }
   ],
   "source": [
    "A = np.matrix([[0.0001, -5.0300, 5.8090, 7.8320],\n",
    "               [2.2660, 1.9950,  1.2120, 8.0080],\n",
    "               [8.8500, 5.6810,  4.5520, 1.3020],\n",
    "               [6.7750, -2.253,  2.9080, 3.9700]])\n",
    "\n",
    "b = np.matrix([9.5740, 7.2190, 5.7300, 6.2910]).transpose()\n",
    "\n",
    "x1 = np.linalg.solve(A, b)\n",
    "np.allclose(np.dot(A, x1), b)\n",
    "print(x1)\n",
    "\n",
    "x2 = naive_gauss(A, b)\n",
    "np.allclose(np.dot(A, x2), b)\n",
    "print(x2)\n",
    "\n",
    "A = np.matrix([[0.0001, -5.0300, 5.8090, 7.8320],\n",
    "               [2.2660, 1.9950,  1.2120, 8.0080],\n",
    "               [8.8500, 5.6810,  4.5520, 1.3020],\n",
    "               [6.7750, -2.253,  2.9080, 3.9700]])\n",
    "\n",
    "b = np.matrix([9.5740, 7.2190, 5.7300, 6.2910]).transpose()\n",
    "\n",
    "x3 = pivot_gauss(A, b)\n",
    "np.allclose(np.dot(A, x3), b)\n",
    "print(x3)\n",
    "\n",
    "np.allclose(x2, x3)\n"
   ]
  },
  {
   "cell_type": "code",
   "execution_count": 29,
   "metadata": {},
   "outputs": [],
   "source": [
    "# dlaczego wołamy transpose() na wektorze b:\n",
    "# po to, żeby otrzymać wektor kolumnowy\n",
    "\n",
    "# dlaczego nie użyjemy ==, a nie equals\n",
    "# jeśli użyjemy == będzie problem z niedokładnością reprezentacji"
   ]
  },
  {
   "cell_type": "code",
   "execution_count": 30,
   "metadata": {},
   "outputs": [],
   "source": [
    "#zadanie 2\n",
    "#algorytm faktoryzacji LU macierzy\n",
    "def agh_superfast_lu(a: np.matrix) -> Optional[Tuple[np.matrix, np.matrix]]:\n",
    "    n = a.shape[0]\n",
    "    l = np.zeros((n,n))\n",
    "    u = np.zeros((n,n))\n",
    "    \n",
    "    for k in range(0,n):\n",
    "        l[k,k] = 1\n",
    "        for j in range(k,n):\n",
    "            sum = 0\n",
    "            for s in range(0,k):\n",
    "                sum += l[k,s] * u[s,j]\n",
    "            u[k,j] = a[k,j] - sum\n",
    "        for i in range(k+1,n):\n",
    "            sum = 0\n",
    "            for s in range(0,k):\n",
    "                sum += l[i,s] * u[s,k]\n",
    "            l[i,k] = (a[i,k] - sum) / u[k,k]\n",
    "    return (l, u)\n"
   ]
  },
  {
   "cell_type": "code",
   "execution_count": 31,
   "metadata": {},
   "outputs": [],
   "source": [
    "#funkcja sprawdzająca, czy dana macierz jest symetryczna i dodatnio określona\n",
    "def agh_superfast_check_spd(a: np.matrix) -> bool:\n",
    "    l = superfast_cholesky(a)\n",
    "    llt = superfast_matrix_multiply(l, l.transpose())\n",
    "    return np.allclose(llt, a)"
   ]
  },
  {
   "cell_type": "code",
   "execution_count": 32,
   "metadata": {},
   "outputs": [],
   "source": [
    "# algorytm faktoryzacji Cholesky'ego macierzy\n",
    "def agh_superfast_cholesky(a: np.matrix) -> Optional[np.matrix]:\n",
    "    n = a.shape[0]\n",
    "    l = np.zeros((n, n))\n",
    "    \n",
    "    for k in range(0, n):\n",
    "        sum = 0\n",
    "        for s in range(0, k):\n",
    "            sum += l[k, s] * l[k, s]\n",
    "        l[k, k] = pow(a[k, k] - sum, 1 / 2)\n",
    "        for i in range(k+1, n):\n",
    "            sum = 0\n",
    "            for s in range(0, k):\n",
    "                sum += l[i, s] * l[k, s]\n",
    "            l[i, k] = (a[i, k] - sum) / l[k, k]\n",
    "    return l"
   ]
  },
  {
   "cell_type": "code",
   "execution_count": 33,
   "metadata": {},
   "outputs": [
    {
     "name": "stdout",
     "output_type": "stream",
     "text": [
      "[[ 1.          0.          0.        ]\n",
      " [ 0.2         1.          0.        ]\n",
      " [ 0.6        -1.28571429  1.        ]]\n",
      "[[ 5.          3.          2.        ]\n",
      " [ 0.          1.4        -0.4       ]\n",
      " [ 0.          0.          2.28571429]]\n"
     ]
    }
   ],
   "source": [
    "A = np.matrix([[5.0, 3.0, 2.0],\n",
    "               [ 1.0, 2.0, 0.0],\n",
    "               [ 3.0, 0.0, 4.0]])\n",
    "\n",
    "LU = agh_superfast_lu(A)\n",
    "print(LU[0])\n",
    "print(LU[1])"
   ]
  },
  {
   "cell_type": "code",
   "execution_count": 34,
   "metadata": {},
   "outputs": [
    {
     "name": "stdout",
     "output_type": "stream",
     "text": [
      "[[ 1.41421356  0.          0.        ]\n",
      " [-0.70710678  1.22474487  0.        ]\n",
      " [ 0.         -0.81649658  1.15470054]]\n",
      "[[ 1.41421356 -0.70710678  0.        ]\n",
      " [ 0.          1.22474487 -0.81649658]\n",
      " [ 0.          0.          1.15470054]]\n"
     ]
    }
   ],
   "source": [
    "A = np.matrix([[2.0, -1.0, 0.0],\n",
    "               [-1.0, 2.0, -1.0],\n",
    "               [ 0.0, -1.0, 2.0]])\n",
    "\n",
    "L = agh_superfast_cholesky(A)\n",
    "print(L)\n",
    "print(L.transpose())"
   ]
  },
  {
   "cell_type": "code",
   "execution_count": 35,
   "metadata": {},
   "outputs": [
    {
     "data": {
      "text/plain": [
       "True"
      ]
     },
     "execution_count": 35,
     "metadata": {},
     "output_type": "execute_result"
    }
   ],
   "source": [
    "A = np.matrix([[2.0, -1.0, 0.0],\n",
    "               [-1.0, 2.0,-1.0],\n",
    "               [ 0.0,-1.0, 2.0]])\n",
    "\n",
    "agh_superfast_check_spd(A)"
   ]
  }
 ],
 "metadata": {
  "kernelspec": {
   "display_name": "Python 3",
   "language": "python",
   "name": "python3"
  },
  "language_info": {
   "codemirror_mode": {
    "name": "ipython",
    "version": 3
   },
   "file_extension": ".py",
   "mimetype": "text/x-python",
   "name": "python",
   "nbconvert_exporter": "python",
   "pygments_lexer": "ipython3",
   "version": "3.5.2"
  }
 },
 "nbformat": 4,
 "nbformat_minor": 2
}

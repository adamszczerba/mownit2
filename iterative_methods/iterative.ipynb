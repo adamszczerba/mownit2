{
 "cells": [
  {
   "cell_type": "code",
   "execution_count": 26,
   "metadata": {},
   "outputs": [],
   "source": [
    "#zadanie1, metoda Jacobiego\n",
    "import numpy as np\n",
    "\n",
    "def jacobi_solve(A: np.matrix, b: np.matrix, ite = 1000) -> np.matrix:\n",
    "    n = A.shape[0]\n",
    "    x = np.zeros(n)\n",
    "    k = 0\n",
    "    while k < ite:\n",
    "        x1 = np.zeros(n)\n",
    "        for i in range(n):\n",
    "            sum = 0\n",
    "            for j in range(n):\n",
    "                if j != i:\n",
    "                    sum = sum + A[i,j] * x[j]\n",
    "            x1[i] = (1 / A[i,i]) * (b[i] - sum)\n",
    "        x = x1\n",
    "        k = k + 1\n",
    "    return x"
   ]
  },
  {
   "cell_type": "code",
   "execution_count": 27,
   "metadata": {},
   "outputs": [
    {
     "data": {
      "text/plain": [
       "array([ 7.11111111, -3.22222222])"
      ]
     },
     "execution_count": 27,
     "metadata": {},
     "output_type": "execute_result"
    }
   ],
   "source": [
    "#testowanie\n",
    "A1 = np.matrix([[2, 1],\n",
    "               [5, 7]])\n",
    "\n",
    "b1 = np.matrix([11, 13]).transpose()\n",
    "\n",
    "jacobi_solve(A1, b1)\n"
   ]
  },
  {
   "cell_type": "code",
   "execution_count": 28,
   "metadata": {},
   "outputs": [],
   "source": [
    "#porównanie z metodą eliminacji Gaussa:\n",
    "#metoda eliminacji Gaussa jest metodą dokładną, a metoda Jacobiego jest metodą iteracyjną"
   ]
  },
  {
   "cell_type": "code",
   "execution_count": 29,
   "metadata": {},
   "outputs": [],
   "source": [
    "#zadanie2, metoda Gaussa\n",
    "def gauss_seidel_solve(A: np.matrix, b: np.matrix, ite = 1000) -> np.matrix:\n",
    "    n = A.shape[0]\n",
    "    x = np.zeros(n)\n",
    "    k = 0\n",
    "    while k < ite:\n",
    "        x1 = np.zeros(n)\n",
    "        for i in range(n):\n",
    "            sum = 0\n",
    "            for j in range(n):\n",
    "                if j != i:\n",
    "                    sum = sum + A[i,j] * x[j]\n",
    "            x1[i] = (1 / A[i,i]) * (b[i] - sum)\n",
    "        x = x1\n",
    "        k = k + 1\n",
    "    return x"
   ]
  },
  {
   "cell_type": "code",
   "execution_count": 30,
   "metadata": {},
   "outputs": [
    {
     "data": {
      "text/plain": [
       "array([ 7.11111111, -3.22222222])"
      ]
     },
     "execution_count": 30,
     "metadata": {},
     "output_type": "execute_result"
    }
   ],
   "source": [
    "#testowanie\n",
    "A = np.matrix([[2, 1],\n",
    "               [5, 7]])\n",
    "b = np.matrix([11, 13]).transpose()\n",
    "\n",
    "gauss_seidel_solve(A, b)"
   ]
  },
  {
   "cell_type": "code",
   "execution_count": 31,
   "metadata": {},
   "outputs": [],
   "source": [
    "#zadanie3, metoda SOR\n",
    "def sor_solve(A: np.matrix, b: np.matrix, ite = 1000) -> np.matrix:\n",
    "    n = A.shape[0]\n",
    "    x = np.zeros(n)\n",
    "    omega = 1.44\n",
    "    k = 0\n",
    "    while k < ite:\n",
    "        x1 = np.zeros(n)\n",
    "        for i in range(n):\n",
    "            sumL = 0\n",
    "            sumU = 0\n",
    "            for j in range(0, i):\n",
    "                sumL = sumL + A[i,j] * x1[j]\n",
    "            for j in range(i+1, n):\n",
    "                sumU = sumU + A[i,j] * x[j]\n",
    "            x1[i] = (1 - omega) * x[i] + (omega / A[i,i]) * (b[i] - sumL - sumU)\n",
    "        x = x1\n",
    "        k = k + 1\n",
    "    return x"
   ]
  },
  {
   "cell_type": "code",
   "execution_count": 32,
   "metadata": {},
   "outputs": [
    {
     "data": {
      "text/plain": [
       "array([ 7.11111111, -3.22222222])"
      ]
     },
     "execution_count": 32,
     "metadata": {},
     "output_type": "execute_result"
    }
   ],
   "source": [
    "#testowanie\n",
    "A = np.matrix([[2, 1],\n",
    "               [5, 7]])\n",
    "b = np.matrix([11, 13]).transpose()\n",
    "\n",
    "sor_solve(A, b)"
   ]
  },
  {
   "cell_type": "code",
   "execution_count": 34,
   "metadata": {},
   "outputs": [
    {
     "name": "stdout",
     "output_type": "stream",
     "text": [
      "Accurate after 16 iterations\n",
      "Accurate after 14 iterations\n",
      "Accurate after 14 iterations\n"
     ]
    }
   ],
   "source": [
    "#porównanie tempa zbiegania rozwiązania\n",
    "def check_method(A: np.matrix, b: np.matrix, method):\n",
    "    xt = np.linalg.solve(A, b)\n",
    "    for i in range(1,25):\n",
    "        x = method(A, b, i)\n",
    "        if(np.allclose(xt.transpose(), x) == True):\n",
    "            print(\"Accurate after\", i, \"iterations\")\n",
    "            break\n",
    "    pass\n",
    "\n",
    "A = np.array([[10., -1., 2., 0.],\n",
    "              [-1., 11., -1., 3.],\n",
    "              [2., -1., 10., -1.],\n",
    "              [0.0, 3., -1., 8.]])\n",
    "b = np.array([6., 25., -11., 15.]).transpose()\n",
    "\n",
    "check_method(A, b, sor_solve)\n",
    "check_method(A, b, gauss_seidel_solve)\n",
    "check_method(A, b, jacobi_solve)\n"
   ]
  },
  {
   "cell_type": "code",
   "execution_count": null,
   "metadata": {},
   "outputs": [],
   "source": []
  }
 ],
 "metadata": {
  "kernelspec": {
   "display_name": "Python 3",
   "language": "python",
   "name": "python3"
  },
  "language_info": {
   "codemirror_mode": {
    "name": "ipython",
    "version": 3
   },
   "file_extension": ".py",
   "mimetype": "text/x-python",
   "name": "python",
   "nbconvert_exporter": "python",
   "pygments_lexer": "ipython3",
   "version": "3.5.2"
  }
 },
 "nbformat": 4,
 "nbformat_minor": 2
}
